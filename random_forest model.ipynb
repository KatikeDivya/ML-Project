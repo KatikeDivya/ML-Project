{
 "cells": [
  {
   "cell_type": "markdown",
   "id": "116530c2",
   "metadata": {},
   "source": [
    "## Importing Necessary Libraries"
   ]
  },
  {
   "cell_type": "code",
   "execution_count": 1,
   "id": "5516b3cc",
   "metadata": {},
   "outputs": [],
   "source": [
    "import numpy as np\n",
    "import pandas as pd\n",
    "import pickle"
   ]
  },
  {
   "cell_type": "markdown",
   "id": "fef2a6ff",
   "metadata": {},
   "source": [
    "## Loading the Dataset"
   ]
  },
  {
   "cell_type": "code",
   "execution_count": 2,
   "id": "8c8f1a7c",
   "metadata": {},
   "outputs": [],
   "source": [
    "df = pd.read_csv(\"final_data1.csv\")"
   ]
  },
  {
   "cell_type": "markdown",
   "id": "4487389f",
   "metadata": {},
   "source": [
    "# Data Analysis"
   ]
  },
  {
   "cell_type": "markdown",
   "id": "3239dc19",
   "metadata": {},
   "source": [
    "### Displaying top 5 rows"
   ]
  },
  {
   "cell_type": "code",
   "execution_count": 3,
   "id": "bb616610",
   "metadata": {},
   "outputs": [
    {
     "data": {
      "text/html": [
       "<div>\n",
       "<style scoped>\n",
       "    .dataframe tbody tr th:only-of-type {\n",
       "        vertical-align: middle;\n",
       "    }\n",
       "\n",
       "    .dataframe tbody tr th {\n",
       "        vertical-align: top;\n",
       "    }\n",
       "\n",
       "    .dataframe thead th {\n",
       "        text-align: right;\n",
       "    }\n",
       "</style>\n",
       "<table border=\"1\" class=\"dataframe\">\n",
       "  <thead>\n",
       "    <tr style=\"text-align: right;\">\n",
       "      <th></th>\n",
       "      <th>Name</th>\n",
       "      <th>Gender</th>\n",
       "      <th>Age</th>\n",
       "      <th>Height_cm</th>\n",
       "      <th>Weight_kg</th>\n",
       "      <th>BMI</th>\n",
       "      <th>Obesity_Class</th>\n",
       "      <th>Vitamin D</th>\n",
       "    </tr>\n",
       "  </thead>\n",
       "  <tbody>\n",
       "    <tr>\n",
       "      <th>0</th>\n",
       "      <td>Person1</td>\n",
       "      <td>1</td>\n",
       "      <td>38</td>\n",
       "      <td>170.851100</td>\n",
       "      <td>60.023285</td>\n",
       "      <td>20.562892</td>\n",
       "      <td>1</td>\n",
       "      <td>50.998751</td>\n",
       "    </tr>\n",
       "    <tr>\n",
       "      <th>1</th>\n",
       "      <td>Person2</td>\n",
       "      <td>0</td>\n",
       "      <td>38</td>\n",
       "      <td>186.016225</td>\n",
       "      <td>94.263091</td>\n",
       "      <td>27.242065</td>\n",
       "      <td>2</td>\n",
       "      <td>57.555479</td>\n",
       "    </tr>\n",
       "    <tr>\n",
       "      <th>2</th>\n",
       "      <td>Person3</td>\n",
       "      <td>1</td>\n",
       "      <td>44</td>\n",
       "      <td>150.005719</td>\n",
       "      <td>96.332186</td>\n",
       "      <td>42.811040</td>\n",
       "      <td>3</td>\n",
       "      <td>2.057119</td>\n",
       "    </tr>\n",
       "    <tr>\n",
       "      <th>3</th>\n",
       "      <td>Person4</td>\n",
       "      <td>0</td>\n",
       "      <td>14</td>\n",
       "      <td>165.116629</td>\n",
       "      <td>80.368788</td>\n",
       "      <td>29.478528</td>\n",
       "      <td>2</td>\n",
       "      <td>40.411910</td>\n",
       "    </tr>\n",
       "    <tr>\n",
       "      <th>4</th>\n",
       "      <td>Person5</td>\n",
       "      <td>1</td>\n",
       "      <td>44</td>\n",
       "      <td>157.337795</td>\n",
       "      <td>54.155006</td>\n",
       "      <td>21.876230</td>\n",
       "      <td>1</td>\n",
       "      <td>42.221793</td>\n",
       "    </tr>\n",
       "  </tbody>\n",
       "</table>\n",
       "</div>"
      ],
      "text/plain": [
       "      Name  Gender  Age   Height_cm  Weight_kg        BMI  Obesity_Class  \\\n",
       "0  Person1       1   38  170.851100  60.023285  20.562892              1   \n",
       "1  Person2       0   38  186.016225  94.263091  27.242065              2   \n",
       "2  Person3       1   44  150.005719  96.332186  42.811040              3   \n",
       "3  Person4       0   14  165.116629  80.368788  29.478528              2   \n",
       "4  Person5       1   44  157.337795  54.155006  21.876230              1   \n",
       "\n",
       "   Vitamin D  \n",
       "0  50.998751  \n",
       "1  57.555479  \n",
       "2   2.057119  \n",
       "3  40.411910  \n",
       "4  42.221793  "
      ]
     },
     "execution_count": 3,
     "metadata": {},
     "output_type": "execute_result"
    }
   ],
   "source": [
    "df.head()"
   ]
  },
  {
   "cell_type": "markdown",
   "id": "b654d889",
   "metadata": {},
   "source": [
    "### Displaying bottom 5 rows"
   ]
  },
  {
   "cell_type": "code",
   "execution_count": 4,
   "id": "7d3866b2",
   "metadata": {},
   "outputs": [
    {
     "data": {
      "text/html": [
       "<div>\n",
       "<style scoped>\n",
       "    .dataframe tbody tr th:only-of-type {\n",
       "        vertical-align: middle;\n",
       "    }\n",
       "\n",
       "    .dataframe tbody tr th {\n",
       "        vertical-align: top;\n",
       "    }\n",
       "\n",
       "    .dataframe thead th {\n",
       "        text-align: right;\n",
       "    }\n",
       "</style>\n",
       "<table border=\"1\" class=\"dataframe\">\n",
       "  <thead>\n",
       "    <tr style=\"text-align: right;\">\n",
       "      <th></th>\n",
       "      <th>Name</th>\n",
       "      <th>Gender</th>\n",
       "      <th>Age</th>\n",
       "      <th>Height_cm</th>\n",
       "      <th>Weight_kg</th>\n",
       "      <th>BMI</th>\n",
       "      <th>Obesity_Class</th>\n",
       "      <th>Vitamin D</th>\n",
       "    </tr>\n",
       "  </thead>\n",
       "  <tbody>\n",
       "    <tr>\n",
       "      <th>1495</th>\n",
       "      <td>Person1496</td>\n",
       "      <td>0</td>\n",
       "      <td>49</td>\n",
       "      <td>174.691233</td>\n",
       "      <td>108.532336</td>\n",
       "      <td>35.564518</td>\n",
       "      <td>3</td>\n",
       "      <td>31.408961</td>\n",
       "    </tr>\n",
       "    <tr>\n",
       "      <th>1496</th>\n",
       "      <td>Person1497</td>\n",
       "      <td>0</td>\n",
       "      <td>11</td>\n",
       "      <td>198.195888</td>\n",
       "      <td>64.990285</td>\n",
       "      <td>16.544710</td>\n",
       "      <td>0</td>\n",
       "      <td>91.671418</td>\n",
       "    </tr>\n",
       "    <tr>\n",
       "      <th>1497</th>\n",
       "      <td>Person1498</td>\n",
       "      <td>0</td>\n",
       "      <td>27</td>\n",
       "      <td>182.247084</td>\n",
       "      <td>80.767737</td>\n",
       "      <td>24.317378</td>\n",
       "      <td>1</td>\n",
       "      <td>37.358266</td>\n",
       "    </tr>\n",
       "    <tr>\n",
       "      <th>1498</th>\n",
       "      <td>Person1499</td>\n",
       "      <td>1</td>\n",
       "      <td>24</td>\n",
       "      <td>174.215789</td>\n",
       "      <td>61.793388</td>\n",
       "      <td>20.359494</td>\n",
       "      <td>1</td>\n",
       "      <td>48.444741</td>\n",
       "    </tr>\n",
       "    <tr>\n",
       "      <th>1499</th>\n",
       "      <td>Person1500</td>\n",
       "      <td>0</td>\n",
       "      <td>68</td>\n",
       "      <td>198.384762</td>\n",
       "      <td>87.036105</td>\n",
       "      <td>22.114790</td>\n",
       "      <td>1</td>\n",
       "      <td>25.464402</td>\n",
       "    </tr>\n",
       "  </tbody>\n",
       "</table>\n",
       "</div>"
      ],
      "text/plain": [
       "            Name  Gender  Age   Height_cm   Weight_kg        BMI  \\\n",
       "1495  Person1496       0   49  174.691233  108.532336  35.564518   \n",
       "1496  Person1497       0   11  198.195888   64.990285  16.544710   \n",
       "1497  Person1498       0   27  182.247084   80.767737  24.317378   \n",
       "1498  Person1499       1   24  174.215789   61.793388  20.359494   \n",
       "1499  Person1500       0   68  198.384762   87.036105  22.114790   \n",
       "\n",
       "      Obesity_Class  Vitamin D  \n",
       "1495              3  31.408961  \n",
       "1496              0  91.671418  \n",
       "1497              1  37.358266  \n",
       "1498              1  48.444741  \n",
       "1499              1  25.464402  "
      ]
     },
     "execution_count": 4,
     "metadata": {},
     "output_type": "execute_result"
    }
   ],
   "source": [
    "df.tail()"
   ]
  },
  {
   "cell_type": "markdown",
   "id": "f051dad3",
   "metadata": {},
   "source": [
    "### Displaying the rows and columns"
   ]
  },
  {
   "cell_type": "code",
   "execution_count": 5,
   "id": "fde48679",
   "metadata": {},
   "outputs": [
    {
     "data": {
      "text/plain": [
       "(1500, 8)"
      ]
     },
     "execution_count": 5,
     "metadata": {},
     "output_type": "execute_result"
    }
   ],
   "source": [
    "df.shape"
   ]
  },
  {
   "cell_type": "code",
   "execution_count": 6,
   "id": "fff168ae",
   "metadata": {},
   "outputs": [],
   "source": [
    "#df['Gender'] = df['Gender'].map({'Male': 1, 'Female': 0})"
   ]
  },
  {
   "cell_type": "markdown",
   "id": "cf0265f8",
   "metadata": {},
   "source": [
    "### Displaying the data information"
   ]
  },
  {
   "cell_type": "code",
   "execution_count": 7,
   "id": "b8943a5a",
   "metadata": {},
   "outputs": [
    {
     "name": "stdout",
     "output_type": "stream",
     "text": [
      "<class 'pandas.core.frame.DataFrame'>\n",
      "RangeIndex: 1500 entries, 0 to 1499\n",
      "Data columns (total 8 columns):\n",
      " #   Column         Non-Null Count  Dtype  \n",
      "---  ------         --------------  -----  \n",
      " 0   Name           1500 non-null   object \n",
      " 1   Gender         1500 non-null   int64  \n",
      " 2   Age            1500 non-null   int64  \n",
      " 3   Height_cm      1500 non-null   float64\n",
      " 4   Weight_kg      1500 non-null   float64\n",
      " 5   BMI            1500 non-null   float64\n",
      " 6   Obesity_Class  1500 non-null   int64  \n",
      " 7   Vitamin D      1500 non-null   float64\n",
      "dtypes: float64(4), int64(3), object(1)\n",
      "memory usage: 93.9+ KB\n"
     ]
    }
   ],
   "source": [
    "df.info()"
   ]
  },
  {
   "cell_type": "markdown",
   "id": "54ed87ab",
   "metadata": {},
   "source": [
    "### Displaying Column Names"
   ]
  },
  {
   "cell_type": "code",
   "execution_count": 8,
   "id": "f019a77a",
   "metadata": {},
   "outputs": [
    {
     "data": {
      "text/plain": [
       "Index(['Name', 'Gender', 'Age', 'Height_cm', 'Weight_kg', 'BMI',\n",
       "       'Obesity_Class', 'Vitamin D'],\n",
       "      dtype='object')"
      ]
     },
     "execution_count": 8,
     "metadata": {},
     "output_type": "execute_result"
    }
   ],
   "source": [
    "df.columns"
   ]
  },
  {
   "cell_type": "markdown",
   "id": "a9c215a0",
   "metadata": {},
   "source": [
    "### Dispalying the Basic Statistics of Continuous Data"
   ]
  },
  {
   "cell_type": "code",
   "execution_count": 9,
   "id": "badd2ce1",
   "metadata": {},
   "outputs": [
    {
     "data": {
      "text/html": [
       "<div>\n",
       "<style scoped>\n",
       "    .dataframe tbody tr th:only-of-type {\n",
       "        vertical-align: middle;\n",
       "    }\n",
       "\n",
       "    .dataframe tbody tr th {\n",
       "        vertical-align: top;\n",
       "    }\n",
       "\n",
       "    .dataframe thead th {\n",
       "        text-align: right;\n",
       "    }\n",
       "</style>\n",
       "<table border=\"1\" class=\"dataframe\">\n",
       "  <thead>\n",
       "    <tr style=\"text-align: right;\">\n",
       "      <th></th>\n",
       "      <th>Gender</th>\n",
       "      <th>Age</th>\n",
       "      <th>Height_cm</th>\n",
       "      <th>Weight_kg</th>\n",
       "      <th>BMI</th>\n",
       "      <th>Obesity_Class</th>\n",
       "      <th>Vitamin D</th>\n",
       "    </tr>\n",
       "  </thead>\n",
       "  <tbody>\n",
       "    <tr>\n",
       "      <th>count</th>\n",
       "      <td>1500.000000</td>\n",
       "      <td>1500.000000</td>\n",
       "      <td>1500.000000</td>\n",
       "      <td>1500.000000</td>\n",
       "      <td>1500.000000</td>\n",
       "      <td>1500.000000</td>\n",
       "      <td>1500.000000</td>\n",
       "    </tr>\n",
       "    <tr>\n",
       "      <th>mean</th>\n",
       "      <td>0.484000</td>\n",
       "      <td>35.497333</td>\n",
       "      <td>175.153488</td>\n",
       "      <td>84.802305</td>\n",
       "      <td>28.203942</td>\n",
       "      <td>1.882000</td>\n",
       "      <td>39.893597</td>\n",
       "    </tr>\n",
       "    <tr>\n",
       "      <th>std</th>\n",
       "      <td>0.499911</td>\n",
       "      <td>20.209955</td>\n",
       "      <td>14.516165</td>\n",
       "      <td>19.970876</td>\n",
       "      <td>8.134329</td>\n",
       "      <td>1.072463</td>\n",
       "      <td>19.643454</td>\n",
       "    </tr>\n",
       "    <tr>\n",
       "      <th>min</th>\n",
       "      <td>0.000000</td>\n",
       "      <td>1.000000</td>\n",
       "      <td>150.005719</td>\n",
       "      <td>50.072305</td>\n",
       "      <td>12.894070</td>\n",
       "      <td>0.000000</td>\n",
       "      <td>-23.725754</td>\n",
       "    </tr>\n",
       "    <tr>\n",
       "      <th>25%</th>\n",
       "      <td>0.000000</td>\n",
       "      <td>18.750000</td>\n",
       "      <td>162.612629</td>\n",
       "      <td>67.536386</td>\n",
       "      <td>22.089594</td>\n",
       "      <td>1.000000</td>\n",
       "      <td>26.904390</td>\n",
       "    </tr>\n",
       "    <tr>\n",
       "      <th>50%</th>\n",
       "      <td>0.000000</td>\n",
       "      <td>36.000000</td>\n",
       "      <td>175.376028</td>\n",
       "      <td>85.084444</td>\n",
       "      <td>27.480795</td>\n",
       "      <td>2.000000</td>\n",
       "      <td>41.072871</td>\n",
       "    </tr>\n",
       "    <tr>\n",
       "      <th>75%</th>\n",
       "      <td>1.000000</td>\n",
       "      <td>53.000000</td>\n",
       "      <td>187.722242</td>\n",
       "      <td>101.936199</td>\n",
       "      <td>33.392770</td>\n",
       "      <td>3.000000</td>\n",
       "      <td>53.187011</td>\n",
       "    </tr>\n",
       "    <tr>\n",
       "      <th>max</th>\n",
       "      <td>1.000000</td>\n",
       "      <td>70.000000</td>\n",
       "      <td>199.926025</td>\n",
       "      <td>119.991305</td>\n",
       "      <td>52.720153</td>\n",
       "      <td>3.000000</td>\n",
       "      <td>114.192964</td>\n",
       "    </tr>\n",
       "  </tbody>\n",
       "</table>\n",
       "</div>"
      ],
      "text/plain": [
       "            Gender          Age    Height_cm    Weight_kg          BMI  \\\n",
       "count  1500.000000  1500.000000  1500.000000  1500.000000  1500.000000   \n",
       "mean      0.484000    35.497333   175.153488    84.802305    28.203942   \n",
       "std       0.499911    20.209955    14.516165    19.970876     8.134329   \n",
       "min       0.000000     1.000000   150.005719    50.072305    12.894070   \n",
       "25%       0.000000    18.750000   162.612629    67.536386    22.089594   \n",
       "50%       0.000000    36.000000   175.376028    85.084444    27.480795   \n",
       "75%       1.000000    53.000000   187.722242   101.936199    33.392770   \n",
       "max       1.000000    70.000000   199.926025   119.991305    52.720153   \n",
       "\n",
       "       Obesity_Class    Vitamin D  \n",
       "count    1500.000000  1500.000000  \n",
       "mean        1.882000    39.893597  \n",
       "std         1.072463    19.643454  \n",
       "min         0.000000   -23.725754  \n",
       "25%         1.000000    26.904390  \n",
       "50%         2.000000    41.072871  \n",
       "75%         3.000000    53.187011  \n",
       "max         3.000000   114.192964  "
      ]
     },
     "execution_count": 9,
     "metadata": {},
     "output_type": "execute_result"
    }
   ],
   "source": [
    "df.describe()"
   ]
  },
  {
   "cell_type": "markdown",
   "id": "e7067540",
   "metadata": {},
   "source": [
    "### Displaying the Basic Statistics of Categorical Data"
   ]
  },
  {
   "cell_type": "code",
   "execution_count": 10,
   "id": "8f120aa4",
   "metadata": {},
   "outputs": [
    {
     "name": "stdout",
     "output_type": "stream",
     "text": [
      "Displaying the Categories in the Gender Column:\n"
     ]
    },
    {
     "data": {
      "text/plain": [
       "array([1, 0], dtype=int64)"
      ]
     },
     "metadata": {},
     "output_type": "display_data"
    },
    {
     "name": "stdout",
     "output_type": "stream",
     "text": [
      "\n",
      "Displaying each Category count in the Column:\n"
     ]
    },
    {
     "data": {
      "text/plain": [
       "Gender\n",
       "0    774\n",
       "1    726\n",
       "Name: count, dtype: int64"
      ]
     },
     "metadata": {},
     "output_type": "display_data"
    }
   ],
   "source": [
    "print(\"Displaying the Categories in the Gender Column:\")\n",
    "display(df['Gender'].unique())\n",
    "print(\"\\nDisplaying each Category count in the Column:\")\n",
    "display(df['Gender'].value_counts())"
   ]
  },
  {
   "cell_type": "code",
   "execution_count": 11,
   "id": "2946641a",
   "metadata": {},
   "outputs": [
    {
     "name": "stdout",
     "output_type": "stream",
     "text": [
      "Displaying the Categories in the Obesity_Class Column:\n"
     ]
    },
    {
     "data": {
      "text/plain": [
       "array([1, 2, 3, 0], dtype=int64)"
      ]
     },
     "metadata": {},
     "output_type": "display_data"
    },
    {
     "name": "stdout",
     "output_type": "stream",
     "text": [
      "\n",
      "Displaying each Category count in the Column:\n"
     ]
    },
    {
     "data": {
      "text/plain": [
       "Obesity_Class\n",
       "3    597\n",
       "1    400\n",
       "2    316\n",
       "0    187\n",
       "Name: count, dtype: int64"
      ]
     },
     "metadata": {},
     "output_type": "display_data"
    }
   ],
   "source": [
    "print(\"Displaying the Categories in the Obesity_Class Column:\")\n",
    "display(df['Obesity_Class'].unique())\n",
    "print(\"\\nDisplaying each Category count in the Column:\")\n",
    "display(df['Obesity_Class'].value_counts())"
   ]
  },
  {
   "cell_type": "markdown",
   "id": "4881c9b3",
   "metadata": {},
   "source": [
    "### Displaying null values information"
   ]
  },
  {
   "cell_type": "markdown",
   "id": "478ebba0",
   "metadata": {},
   "source": [
    "##### Displaying each column null values there or not"
   ]
  },
  {
   "cell_type": "code",
   "execution_count": 12,
   "id": "28fbc3d7",
   "metadata": {},
   "outputs": [
    {
     "data": {
      "text/plain": [
       "Name             False\n",
       "Gender           False\n",
       "Age              False\n",
       "Height_cm        False\n",
       "Weight_kg        False\n",
       "BMI              False\n",
       "Obesity_Class    False\n",
       "Vitamin D        False\n",
       "dtype: bool"
      ]
     },
     "execution_count": 12,
     "metadata": {},
     "output_type": "execute_result"
    }
   ],
   "source": [
    "df.isnull().any()"
   ]
  },
  {
   "cell_type": "markdown",
   "id": "1347d9fd",
   "metadata": {},
   "source": [
    "##### Displaying each column null values count"
   ]
  },
  {
   "cell_type": "code",
   "execution_count": 13,
   "id": "5502b106",
   "metadata": {},
   "outputs": [
    {
     "data": {
      "text/plain": [
       "Name             0\n",
       "Gender           0\n",
       "Age              0\n",
       "Height_cm        0\n",
       "Weight_kg        0\n",
       "BMI              0\n",
       "Obesity_Class    0\n",
       "Vitamin D        0\n",
       "dtype: int64"
      ]
     },
     "execution_count": 13,
     "metadata": {},
     "output_type": "execute_result"
    }
   ],
   "source": [
    "df.isnull().sum()"
   ]
  },
  {
   "cell_type": "markdown",
   "id": "af390c96",
   "metadata": {},
   "source": [
    "##### Displaying whole dataset duplicates there or not"
   ]
  },
  {
   "cell_type": "code",
   "execution_count": 14,
   "id": "ea914ae8",
   "metadata": {},
   "outputs": [
    {
     "data": {
      "text/plain": [
       "False"
      ]
     },
     "execution_count": 14,
     "metadata": {},
     "output_type": "execute_result"
    }
   ],
   "source": [
    "df.duplicated().any()"
   ]
  },
  {
   "cell_type": "markdown",
   "id": "ae420a4f",
   "metadata": {},
   "source": [
    "##### Displaying whole dataset duplicates count"
   ]
  },
  {
   "cell_type": "code",
   "execution_count": 15,
   "id": "b52299ee",
   "metadata": {},
   "outputs": [
    {
     "data": {
      "text/plain": [
       "0"
      ]
     },
     "execution_count": 15,
     "metadata": {},
     "output_type": "execute_result"
    }
   ],
   "source": [
    "df.duplicated().sum()"
   ]
  },
  {
   "cell_type": "markdown",
   "id": "60c05d6b",
   "metadata": {},
   "source": [
    "### Droping unncessary columns"
   ]
  },
  {
   "cell_type": "code",
   "execution_count": 16,
   "id": "9bb41fc4",
   "metadata": {},
   "outputs": [],
   "source": [
    "df = df.drop(['Name'],axis=1)"
   ]
  },
  {
   "cell_type": "markdown",
   "id": "9d175665",
   "metadata": {},
   "source": [
    "### Selecting Features and Target Variable"
   ]
  },
  {
   "cell_type": "code",
   "execution_count": 17,
   "id": "5a98e97b",
   "metadata": {},
   "outputs": [],
   "source": [
    "X = df.drop(['Vitamin D'], axis=1)  # Dropping the specified columns along the columns axis\n",
    "y = df['Vitamin D']  # Selecting only the 'Vitamin D' column as y"
   ]
  },
  {
   "cell_type": "markdown",
   "id": "8cf78c3b",
   "metadata": {},
   "source": [
    "### Splitting Data into Train, Test Split"
   ]
  },
  {
   "cell_type": "code",
   "execution_count": 18,
   "id": "982fb8e6",
   "metadata": {},
   "outputs": [
    {
     "name": "stdout",
     "output_type": "stream",
     "text": [
      "Shape of X_train: (1200, 6)\n",
      "Shape of X_test: (300, 6)\n",
      "Shape of y_train: (1200,)\n",
      "Shape of y_test: (300,)\n"
     ]
    }
   ],
   "source": [
    "from sklearn.model_selection import train_test_split\n",
    "\n",
    "# Splitting the dataset into training and testing sets for both X and y\n",
    "X_train, X_test, y_train, y_test = train_test_split(X, y, test_size=0.2, random_state=42)\n",
    "\n",
    "\n",
    "# Check the shapes of the resulting arrays\n",
    "print(\"Shape of X_train:\", X_train.shape)\n",
    "print(\"Shape of X_test:\", X_test.shape)\n",
    "print(\"Shape of y_train:\", y_train.shape)\n",
    "print(\"Shape of y_test:\", y_test.shape)"
   ]
  },
  {
   "cell_type": "markdown",
   "id": "6112050d",
   "metadata": {},
   "source": [
    "# Applying Regression Models"
   ]
  },
  {
   "cell_type": "code",
   "execution_count": 19,
   "id": "da98d087",
   "metadata": {},
   "outputs": [],
   "source": [
    "from sklearn.metrics import r2_score, mean_squared_error, mean_absolute_error\n",
    "import numpy as np"
   ]
  },
  {
   "cell_type": "markdown",
   "id": "9f56391b",
   "metadata": {},
   "source": [
    "## Random Forest"
   ]
  },
  {
   "cell_type": "code",
   "execution_count": 20,
   "id": "64efbac7",
   "metadata": {},
   "outputs": [
    {
     "name": "stdout",
     "output_type": "stream",
     "text": [
      "R-squared (R²): 0.7382756624353206\n",
      "Mean Squared Error (MSE): 110.91225341775392\n",
      "Root Mean Squared Error (RMSE): 10.53148866104664\n",
      "Mean Absolute Error (MAE): 8.364280465431092\n"
     ]
    }
   ],
   "source": [
    "from sklearn.ensemble import RandomForestRegressor\n",
    "\n",
    "# Initialize the Random Forest Regressor\n",
    "rf = RandomForestRegressor(n_estimators=100, random_state=42)\n",
    "\n",
    "# Fit the model on the training data\n",
    "rf.fit(X_train, y_train)\n",
    "\n",
    "y_pred = rf.predict(X_test)\n",
    "\n",
    "from sklearn.metrics import r2_score, mean_squared_error, mean_absolute_error\n",
    "import numpy as np\n",
    "\n",
    "# Calculate metrics\n",
    "r2 = r2_score(y_test, y_pred)\n",
    "mse = mean_squared_error(y_test, y_pred)\n",
    "rmse = np.sqrt(mse)\n",
    "mae = mean_absolute_error(y_test, y_pred)\n",
    "\n",
    "# Displaying the metrics\n",
    "print(f\"R-squared (R²): {r2}\")\n",
    "print(f\"Mean Squared Error (MSE): {mse}\")\n",
    "print(f\"Root Mean Squared Error (RMSE): {rmse}\")\n",
    "print(f\"Mean Absolute Error (MAE): {mae}\")\n",
    "\n",
    "# Save the model\n",
    "with open('rf_model.sav', 'wb') as file:\n",
    "    # Serialize and save the model to the file\n",
    "    pickle.dump(rf, file)"
   ]
  },
  {
   "cell_type": "code",
   "execution_count": 21,
   "id": "7ee64931",
   "metadata": {},
   "outputs": [
    {
     "data": {
      "text/plain": [
       "Index(['Gender', 'Age', 'Height_cm', 'Weight_kg', 'BMI', 'Obesity_Class'], dtype='object')"
      ]
     },
     "execution_count": 21,
     "metadata": {},
     "output_type": "execute_result"
    }
   ],
   "source": [
    "X.columns"
   ]
  },
  {
   "cell_type": "code",
   "execution_count": 22,
   "id": "bd036d34",
   "metadata": {},
   "outputs": [
    {
     "name": "stdout",
     "output_type": "stream",
     "text": [
      "\n",
      "Predicted Vitamin D: 9.97774066580895\n",
      "Deficient\n"
     ]
    }
   ],
   "source": [
    "import pandas as pd\n",
    "import numpy as np\n",
    "import pickle\n",
    "with open('rf_model.sav', 'rb') as file:\n",
    "    # Load the object stored in the file\n",
    "    rf = pickle.load(file)\n",
    "Gender = int(input(\"Enter Gender 0 or 1: \"))\n",
    "Age = int(input(\"Enter age: \"))\n",
    "Height_cm = float(input(\"Enter Height in cm: \"))\n",
    "Weight_kg = float(input(\"Enter Weight in kg: \"))\n",
    "BMI = float(input(\"Enter BMI: \"))\n",
    "Obesity_Class = int(input(\"Enter Obesity_Class 0,1,2,3: \"))\n",
    "\n",
    "d = {'Gender':[Gender],'Age':[Age],'Height_cm':[Height_cm],'Weight_kg':[Weight_kg],'BMI':[BMI],'Obesity_Class':[Obesity_Class]}\n",
    "fea = pd.DataFrame(d)\n",
    "# Final predictions\n",
    "final_predictions = rf.predict(fea)\n",
    "print(\"\\nPredicted Vitamin D:\",final_predictions[0])\n",
    "\n",
    "if final_predictions[0] < 20:\n",
    "    print(\"Deficient\")\n",
    "elif final_predictions[0] < 30:\n",
    "    print(\"Insufficient\")\n",
    "elif final_predictions[0] <= 100:\n",
    "    print(\"Sufficient\")\n",
    "else:\n",
    "    print(\"Upper Safety Limit\")"
   ]
  },
  {
   "cell_type": "code",
   "execution_count": null,
   "id": "603bfb85",
   "metadata": {},
   "outputs": [],
   "source": []
  }
 ],
 "metadata": {
  "kernelspec": {
   "display_name": "Python 3 (ipykernel)",
   "language": "python",
   "name": "python3"
  },
  "language_info": {
   "codemirror_mode": {
    "name": "ipython",
    "version": 3
   },
   "file_extension": ".py",
   "mimetype": "text/x-python",
   "name": "python",
   "nbconvert_exporter": "python",
   "pygments_lexer": "ipython3",
   "version": "3.11.5"
  }
 },
 "nbformat": 4,
 "nbformat_minor": 5
}
